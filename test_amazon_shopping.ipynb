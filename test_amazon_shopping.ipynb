{
 "cells": [
  {
   "cell_type": "code",
   "id": "initial_id",
   "metadata": {
    "collapsed": true,
    "ExecuteTime": {
     "end_time": "2025-07-26T15:39:56.831735Z",
     "start_time": "2025-07-26T15:39:56.828188Z"
    }
   },
   "source": [
    "import pandas as pd\n",
    "from solver import KnapsackSolver"
   ],
   "outputs": [],
   "execution_count": 9
  },
  {
   "metadata": {
    "ExecuteTime": {
     "end_time": "2025-07-26T15:39:56.855250Z",
     "start_time": "2025-07-26T15:39:56.846347Z"
    }
   },
   "cell_type": "code",
   "source": [
    "data = pd.read_csv('test_amazon_data.csv')\n",
    "data"
   ],
   "id": "dd0eff697b08e5a3",
   "outputs": [
    {
     "data": {
      "text/plain": [
       "                   Item  Discounted_Price  Original_Price  Discount\n",
       "0           Formal shoe                23           36.99        14\n",
       "1                Tablet                30           49.99        20\n",
       "2             Headphone                60          149.99        90\n",
       "3               Printer                20           59.99        40\n",
       "4               Speaker                45           59.99        15\n",
       "5               Sneaker                55           89.95        35\n",
       "6          Running Shoe                66           85.00        19\n",
       "7                 Watch                75           91.75        17\n",
       "8      Wireless speaker                99          199.00       100\n",
       "9                Jogger                41           54.00        14\n",
       "10          Arsenal kit                84           90.00         6\n",
       "11             Gym shoe                57           69.95        13\n",
       "12           Laptop bag                98          113.97        16\n",
       "13  Bluetooth headphone                78          129.99        52\n",
       "14           Skateboard                37           59.99        23\n",
       "15              Sweater                26           27.82         2\n",
       "16        PS controller                39           64.99        26\n",
       "17           GTA V game                85           99.99        15\n",
       "18          Bike helmet                30           33.96         4\n",
       "19           Hair dryer                39           59.99        21\n",
       "20            Bed sheet                32           39.78         8\n",
       "21                Shirt                28           39.99        12\n",
       "22           Power bank                40           46.99         7\n",
       "23             Sunglass                35           89.99        55\n",
       "24             Swimsuit                32           54.00        22\n",
       "25        Aquarium tank                28           32.89         5\n",
       "26               Blazer                86           99.99        14\n",
       "27        Kitchen mixer                37           39.67         2\n",
       "28       Microwave bowl                16           17.99         2\n",
       "29       Protein powder                24           28.99         5"
      ],
      "text/html": [
       "<div>\n",
       "<style scoped>\n",
       "    .dataframe tbody tr th:only-of-type {\n",
       "        vertical-align: middle;\n",
       "    }\n",
       "\n",
       "    .dataframe tbody tr th {\n",
       "        vertical-align: top;\n",
       "    }\n",
       "\n",
       "    .dataframe thead th {\n",
       "        text-align: right;\n",
       "    }\n",
       "</style>\n",
       "<table border=\"1\" class=\"dataframe\">\n",
       "  <thead>\n",
       "    <tr style=\"text-align: right;\">\n",
       "      <th></th>\n",
       "      <th>Item</th>\n",
       "      <th>Discounted_Price</th>\n",
       "      <th>Original_Price</th>\n",
       "      <th>Discount</th>\n",
       "    </tr>\n",
       "  </thead>\n",
       "  <tbody>\n",
       "    <tr>\n",
       "      <th>0</th>\n",
       "      <td>Formal shoe</td>\n",
       "      <td>23</td>\n",
       "      <td>36.99</td>\n",
       "      <td>14</td>\n",
       "    </tr>\n",
       "    <tr>\n",
       "      <th>1</th>\n",
       "      <td>Tablet</td>\n",
       "      <td>30</td>\n",
       "      <td>49.99</td>\n",
       "      <td>20</td>\n",
       "    </tr>\n",
       "    <tr>\n",
       "      <th>2</th>\n",
       "      <td>Headphone</td>\n",
       "      <td>60</td>\n",
       "      <td>149.99</td>\n",
       "      <td>90</td>\n",
       "    </tr>\n",
       "    <tr>\n",
       "      <th>3</th>\n",
       "      <td>Printer</td>\n",
       "      <td>20</td>\n",
       "      <td>59.99</td>\n",
       "      <td>40</td>\n",
       "    </tr>\n",
       "    <tr>\n",
       "      <th>4</th>\n",
       "      <td>Speaker</td>\n",
       "      <td>45</td>\n",
       "      <td>59.99</td>\n",
       "      <td>15</td>\n",
       "    </tr>\n",
       "    <tr>\n",
       "      <th>5</th>\n",
       "      <td>Sneaker</td>\n",
       "      <td>55</td>\n",
       "      <td>89.95</td>\n",
       "      <td>35</td>\n",
       "    </tr>\n",
       "    <tr>\n",
       "      <th>6</th>\n",
       "      <td>Running Shoe</td>\n",
       "      <td>66</td>\n",
       "      <td>85.00</td>\n",
       "      <td>19</td>\n",
       "    </tr>\n",
       "    <tr>\n",
       "      <th>7</th>\n",
       "      <td>Watch</td>\n",
       "      <td>75</td>\n",
       "      <td>91.75</td>\n",
       "      <td>17</td>\n",
       "    </tr>\n",
       "    <tr>\n",
       "      <th>8</th>\n",
       "      <td>Wireless speaker</td>\n",
       "      <td>99</td>\n",
       "      <td>199.00</td>\n",
       "      <td>100</td>\n",
       "    </tr>\n",
       "    <tr>\n",
       "      <th>9</th>\n",
       "      <td>Jogger</td>\n",
       "      <td>41</td>\n",
       "      <td>54.00</td>\n",
       "      <td>14</td>\n",
       "    </tr>\n",
       "    <tr>\n",
       "      <th>10</th>\n",
       "      <td>Arsenal kit</td>\n",
       "      <td>84</td>\n",
       "      <td>90.00</td>\n",
       "      <td>6</td>\n",
       "    </tr>\n",
       "    <tr>\n",
       "      <th>11</th>\n",
       "      <td>Gym shoe</td>\n",
       "      <td>57</td>\n",
       "      <td>69.95</td>\n",
       "      <td>13</td>\n",
       "    </tr>\n",
       "    <tr>\n",
       "      <th>12</th>\n",
       "      <td>Laptop bag</td>\n",
       "      <td>98</td>\n",
       "      <td>113.97</td>\n",
       "      <td>16</td>\n",
       "    </tr>\n",
       "    <tr>\n",
       "      <th>13</th>\n",
       "      <td>Bluetooth headphone</td>\n",
       "      <td>78</td>\n",
       "      <td>129.99</td>\n",
       "      <td>52</td>\n",
       "    </tr>\n",
       "    <tr>\n",
       "      <th>14</th>\n",
       "      <td>Skateboard</td>\n",
       "      <td>37</td>\n",
       "      <td>59.99</td>\n",
       "      <td>23</td>\n",
       "    </tr>\n",
       "    <tr>\n",
       "      <th>15</th>\n",
       "      <td>Sweater</td>\n",
       "      <td>26</td>\n",
       "      <td>27.82</td>\n",
       "      <td>2</td>\n",
       "    </tr>\n",
       "    <tr>\n",
       "      <th>16</th>\n",
       "      <td>PS controller</td>\n",
       "      <td>39</td>\n",
       "      <td>64.99</td>\n",
       "      <td>26</td>\n",
       "    </tr>\n",
       "    <tr>\n",
       "      <th>17</th>\n",
       "      <td>GTA V game</td>\n",
       "      <td>85</td>\n",
       "      <td>99.99</td>\n",
       "      <td>15</td>\n",
       "    </tr>\n",
       "    <tr>\n",
       "      <th>18</th>\n",
       "      <td>Bike helmet</td>\n",
       "      <td>30</td>\n",
       "      <td>33.96</td>\n",
       "      <td>4</td>\n",
       "    </tr>\n",
       "    <tr>\n",
       "      <th>19</th>\n",
       "      <td>Hair dryer</td>\n",
       "      <td>39</td>\n",
       "      <td>59.99</td>\n",
       "      <td>21</td>\n",
       "    </tr>\n",
       "    <tr>\n",
       "      <th>20</th>\n",
       "      <td>Bed sheet</td>\n",
       "      <td>32</td>\n",
       "      <td>39.78</td>\n",
       "      <td>8</td>\n",
       "    </tr>\n",
       "    <tr>\n",
       "      <th>21</th>\n",
       "      <td>Shirt</td>\n",
       "      <td>28</td>\n",
       "      <td>39.99</td>\n",
       "      <td>12</td>\n",
       "    </tr>\n",
       "    <tr>\n",
       "      <th>22</th>\n",
       "      <td>Power bank</td>\n",
       "      <td>40</td>\n",
       "      <td>46.99</td>\n",
       "      <td>7</td>\n",
       "    </tr>\n",
       "    <tr>\n",
       "      <th>23</th>\n",
       "      <td>Sunglass</td>\n",
       "      <td>35</td>\n",
       "      <td>89.99</td>\n",
       "      <td>55</td>\n",
       "    </tr>\n",
       "    <tr>\n",
       "      <th>24</th>\n",
       "      <td>Swimsuit</td>\n",
       "      <td>32</td>\n",
       "      <td>54.00</td>\n",
       "      <td>22</td>\n",
       "    </tr>\n",
       "    <tr>\n",
       "      <th>25</th>\n",
       "      <td>Aquarium tank</td>\n",
       "      <td>28</td>\n",
       "      <td>32.89</td>\n",
       "      <td>5</td>\n",
       "    </tr>\n",
       "    <tr>\n",
       "      <th>26</th>\n",
       "      <td>Blazer</td>\n",
       "      <td>86</td>\n",
       "      <td>99.99</td>\n",
       "      <td>14</td>\n",
       "    </tr>\n",
       "    <tr>\n",
       "      <th>27</th>\n",
       "      <td>Kitchen mixer</td>\n",
       "      <td>37</td>\n",
       "      <td>39.67</td>\n",
       "      <td>2</td>\n",
       "    </tr>\n",
       "    <tr>\n",
       "      <th>28</th>\n",
       "      <td>Microwave bowl</td>\n",
       "      <td>16</td>\n",
       "      <td>17.99</td>\n",
       "      <td>2</td>\n",
       "    </tr>\n",
       "    <tr>\n",
       "      <th>29</th>\n",
       "      <td>Protein powder</td>\n",
       "      <td>24</td>\n",
       "      <td>28.99</td>\n",
       "      <td>5</td>\n",
       "    </tr>\n",
       "  </tbody>\n",
       "</table>\n",
       "</div>"
      ]
     },
     "execution_count": 10,
     "metadata": {},
     "output_type": "execute_result"
    }
   ],
   "execution_count": 10
  },
  {
   "metadata": {
    "ExecuteTime": {
     "end_time": "2025-07-26T15:39:56.878776Z",
     "start_time": "2025-07-26T15:39:56.876713Z"
    }
   },
   "cell_type": "code",
   "source": [
    "capital = 1000\n",
    "values = data['Discount']\n",
    "weights = data['Discounted_Price']"
   ],
   "id": "3ab30ec30acb1586",
   "outputs": [],
   "execution_count": 11
  },
  {
   "metadata": {
    "ExecuteTime": {
     "end_time": "2025-07-26T15:39:56.918940Z",
     "start_time": "2025-07-26T15:39:56.908201Z"
    }
   },
   "cell_type": "code",
   "source": [
    "KS = KnapsackSolver(weights=weights, values=values, capacity=capital)\n",
    "solution = KS.solve()"
   ],
   "id": "bbc0aeefc04166e6",
   "outputs": [],
   "execution_count": 12
  },
  {
   "metadata": {
    "ExecuteTime": {
     "end_time": "2025-07-26T15:39:56.955683Z",
     "start_time": "2025-07-26T15:39:56.953874Z"
    }
   },
   "cell_type": "code",
   "source": "print('Chosen {} items from {} items'.format(len(solution['chosen_items']), len(data)))",
   "id": "4d7979d65e163016",
   "outputs": [
    {
     "name": "stdout",
     "output_type": "stream",
     "text": [
      "Chosen 21 items from 30 items\n"
     ]
    }
   ],
   "execution_count": 13
  },
  {
   "metadata": {
    "ExecuteTime": {
     "end_time": "2025-07-26T15:39:56.983742Z",
     "start_time": "2025-07-26T15:39:56.981518Z"
    }
   },
   "cell_type": "code",
   "source": "print('Total discount from the chosen items is {}'.format(solution['total_value']))",
   "id": "856aad50cbb06bd1",
   "outputs": [
    {
     "name": "stdout",
     "output_type": "stream",
     "text": [
      "Total discount from the chosen items is 616\n"
     ]
    }
   ],
   "execution_count": 14
  },
  {
   "metadata": {
    "ExecuteTime": {
     "end_time": "2025-07-26T15:39:56.996399Z",
     "start_time": "2025-07-26T15:39:56.993908Z"
    }
   },
   "cell_type": "code",
   "source": "print('Total cost of chosen items is {}'.format(solution['total_weight']))",
   "id": "6daca6f1ad761227",
   "outputs": [
    {
     "name": "stdout",
     "output_type": "stream",
     "text": [
      "Total cost of chosen items is 1000\n"
     ]
    }
   ],
   "execution_count": 15
  },
  {
   "metadata": {
    "ExecuteTime": {
     "end_time": "2025-07-26T15:39:57.010075Z",
     "start_time": "2025-07-26T15:39:57.005297Z"
    }
   },
   "cell_type": "code",
   "source": [
    "print('chosen items are:')\n",
    "data.loc[solution['chosen_items'], 'Item']"
   ],
   "id": "675d35e5c92de9a5",
   "outputs": [
    {
     "name": "stdout",
     "output_type": "stream",
     "text": [
      "chosen items are:\n"
     ]
    },
    {
     "data": {
      "text/plain": [
       "0             Formal shoe\n",
       "1                  Tablet\n",
       "2               Headphone\n",
       "3                 Printer\n",
       "4                 Speaker\n",
       "5                 Sneaker\n",
       "6            Running Shoe\n",
       "7                   Watch\n",
       "8        Wireless speaker\n",
       "9                  Jogger\n",
       "11               Gym shoe\n",
       "13    Bluetooth headphone\n",
       "14             Skateboard\n",
       "16          PS controller\n",
       "17             GTA V game\n",
       "19             Hair dryer\n",
       "20              Bed sheet\n",
       "21                  Shirt\n",
       "23               Sunglass\n",
       "24               Swimsuit\n",
       "29         Protein powder\n",
       "Name: Item, dtype: object"
      ]
     },
     "execution_count": 16,
     "metadata": {},
     "output_type": "execute_result"
    }
   ],
   "execution_count": 16
  }
 ],
 "metadata": {
  "kernelspec": {
   "display_name": "Python 3",
   "language": "python",
   "name": "python3"
  },
  "language_info": {
   "codemirror_mode": {
    "name": "ipython",
    "version": 2
   },
   "file_extension": ".py",
   "mimetype": "text/x-python",
   "name": "python",
   "nbconvert_exporter": "python",
   "pygments_lexer": "ipython2",
   "version": "2.7.6"
  }
 },
 "nbformat": 4,
 "nbformat_minor": 5
}
